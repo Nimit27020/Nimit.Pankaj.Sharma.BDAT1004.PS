{
 "cells": [
  {
   "cell_type": "code",
   "execution_count": 1,
   "id": "002cb8f2",
   "metadata": {},
   "outputs": [
    {
     "ename": "AttributeError",
     "evalue": "'Marsupial' object has no attribute 'new_list'",
     "output_type": "error",
     "traceback": [
      "\u001b[1;31m---------------------------------------------------------------------------\u001b[0m",
      "\u001b[1;31mAttributeError\u001b[0m                            Traceback (most recent call last)",
      "Input \u001b[1;32mIn [1]\u001b[0m, in \u001b[0;36m<cell line: 14>\u001b[1;34m()\u001b[0m\n\u001b[0;32m     11\u001b[0m         \u001b[38;5;28;01mreturn\u001b[39;00m \u001b[38;5;28mself\u001b[39m\u001b[38;5;241m.\u001b[39mnew_list\n\u001b[0;32m     13\u001b[0m m \u001b[38;5;241m=\u001b[39m Marsupial()\n\u001b[1;32m---> 14\u001b[0m \u001b[43mm\u001b[49m\u001b[38;5;241;43m.\u001b[39;49m\u001b[43mput_in_pouch\u001b[49m\u001b[43m(\u001b[49m\u001b[38;5;124;43m'\u001b[39;49m\u001b[38;5;124;43mdoll\u001b[39;49m\u001b[38;5;124;43m'\u001b[39;49m\u001b[43m)\u001b[49m\n\u001b[0;32m     15\u001b[0m m\u001b[38;5;241m.\u001b[39mput_in_pouch(\u001b[38;5;124m'\u001b[39m\u001b[38;5;124mfiretruck\u001b[39m\u001b[38;5;124m'\u001b[39m)\n\u001b[0;32m     16\u001b[0m m\u001b[38;5;241m.\u001b[39mput_in_pouch(\u001b[38;5;124m'\u001b[39m\u001b[38;5;124mkitten\u001b[39m\u001b[38;5;124m'\u001b[39m)\n",
      "Input \u001b[1;32mIn [1]\u001b[0m, in \u001b[0;36mMarsupial.put_in_pouch\u001b[1;34m(self, value)\u001b[0m\n\u001b[0;32m      7\u001b[0m \u001b[38;5;28;01mdef\u001b[39;00m \u001b[38;5;21mput_in_pouch\u001b[39m(\u001b[38;5;28mself\u001b[39m, value):\n\u001b[1;32m----> 8\u001b[0m     \u001b[38;5;28;43mself\u001b[39;49m\u001b[38;5;241;43m.\u001b[39;49m\u001b[43mnew_list\u001b[49m\u001b[38;5;241m.\u001b[39mappend(value)\n",
      "\u001b[1;31mAttributeError\u001b[0m: 'Marsupial' object has no attribute 'new_list'"
     ]
    }
   ],
   "source": [
    "class Marsupial:\n",
    "\n",
    "    def _init_(self):\n",
    "        self.new_list = []\n",
    "        self.new_list.clear()\n",
    "\n",
    "    def put_in_pouch(self, value):\n",
    "        self.new_list.append(value)\n",
    "\n",
    "    def pouch_contents(self):\n",
    "        return self.new_list\n",
    "    \n",
    "m = Marsupial()\n",
    "m.put_in_pouch('doll')\n",
    "m.put_in_pouch('firetruck')\n",
    "m.put_in_pouch('kitten')\n",
    "print(m.pouch_contents())"
   ]
  },
  {
   "cell_type": "code",
   "execution_count": null,
   "id": "9f119746",
   "metadata": {},
   "outputs": [],
   "source": []
  }
 ],
 "metadata": {
  "kernelspec": {
   "display_name": "Python 3 (ipykernel)",
   "language": "python",
   "name": "python3"
  },
  "language_info": {
   "codemirror_mode": {
    "name": "ipython",
    "version": 3
   },
   "file_extension": ".py",
   "mimetype": "text/x-python",
   "name": "python",
   "nbconvert_exporter": "python",
   "pygments_lexer": "ipython3",
   "version": "3.9.12"
  }
 },
 "nbformat": 4,
 "nbformat_minor": 5
}
