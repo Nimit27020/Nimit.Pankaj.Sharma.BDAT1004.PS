{
 "cells": [
  {
   "cell_type": "code",
   "execution_count": 4,
   "id": "b534a123",
   "metadata": {},
   "outputs": [],
   "source": [
    ">>> def binary(n):\n",
    "...   if n < 2:\n",
    "...     print (n)\n",
    "...   else:\n",
    "...     binary(n // 2)\n",
    "...     print (n % 2)"
   ]
  },
  {
   "cell_type": "code",
   "execution_count": 5,
   "id": "1d28161a",
   "metadata": {},
   "outputs": [
    {
     "name": "stdout",
     "output_type": "stream",
     "text": [
      "1\n",
      "1\n"
     ]
    }
   ],
   "source": [
    "binary (3)"
   ]
  },
  {
   "cell_type": "code",
   "execution_count": null,
   "id": "229fcede",
   "metadata": {},
   "outputs": [],
   "source": []
  }
 ],
 "metadata": {
  "kernelspec": {
   "display_name": "Python 3 (ipykernel)",
   "language": "python",
   "name": "python3"
  },
  "language_info": {
   "codemirror_mode": {
    "name": "ipython",
    "version": 3
   },
   "file_extension": ".py",
   "mimetype": "text/x-python",
   "name": "python",
   "nbconvert_exporter": "python",
   "pygments_lexer": "ipython3",
   "version": "3.9.12"
  }
 },
 "nbformat": 4,
 "nbformat_minor": 5
}
